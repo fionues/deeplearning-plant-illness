{
 "cells": [
  {
   "cell_type": "code",
   "execution_count": 1,
   "id": "05f8d740",
   "metadata": {},
   "outputs": [],
   "source": [
    "from data_loader import load_image_data\n",
    "\n",
    "X_train, X_val, y_train, y_val, label_map = load_image_data(\n",
    "    csv_file=\"../data/image_data_rel.csv\",\n",
    "    img_size=(299, 299),\n",
    "    images_per_label=20,\n",
    "    validation_split=0.2\n",
    ")"
   ]
  }
 ],
 "metadata": {
  "kernelspec": {
   "display_name": "deeplearning-env",
   "language": "python",
   "name": "python3"
  },
  "language_info": {
   "codemirror_mode": {
    "name": "ipython",
    "version": 3
   },
   "file_extension": ".py",
   "mimetype": "text/x-python",
   "name": "python",
   "nbconvert_exporter": "python",
   "pygments_lexer": "ipython3",
   "version": "3.10.13"
  }
 },
 "nbformat": 4,
 "nbformat_minor": 5
}
