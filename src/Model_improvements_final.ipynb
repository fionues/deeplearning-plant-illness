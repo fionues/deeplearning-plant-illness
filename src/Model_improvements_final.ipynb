{
 "cells": [
  {
   "cell_type": "code",
   "execution_count": 1,
   "id": "a7597639",
   "metadata": {},
   "outputs": [],
   "source": [
    "import torch\n",
    "import tensorflow as tf\n",
    "%load_ext autoreload\n",
    "\n",
    "# enable GPU\n",
    "device = \"mps\" if torch.backends.mps.is_available() else \"cpu\"\n",
    "x = torch.rand(size=(3, 4)).to(device)\n",
    "\n",
    "gpus = tf.config.list_physical_devices('GPU')\n",
    "if len(gpus) > 1:\n",
    "    tf.config.set_visible_devices(gpus[1], 'GPU')\n",
    "    print(\"Nutze GPU:\", gpus[1])"
   ]
  },
  {
   "cell_type": "code",
   "execution_count": 2,
   "id": "7efb44fa",
   "metadata": {},
   "outputs": [
    {
     "name": "stdout",
     "output_type": "stream",
     "text": [
      "Error loading /Users/fionanueesch/Documents/PERS/CAS Machine Inelligence/M3 Deep Learning/Project/DockerDeepLearning/data/plant_data/PlantVillage/Tomato_Septoria_leaf_spot/33da87e2-f2c6-4a99-bc3c-279f47120681___JR_Sept.L.S 2667.JPG: cannot identify image file '/Users/fionanueesch/Documents/PERS/CAS Machine Inelligence/M3 Deep Learning/Project/DockerDeepLearning/data/plant_data/PlantVillage/Tomato_Septoria_leaf_spot/33da87e2-f2c6-4a99-bc3c-279f47120681___JR_Sept.L.S 2667.JPG'\n"
     ]
    }
   ],
   "source": [
    "%autoreload 2\n",
    "from data_loader import load_image_data\n",
    "\n",
    "import config\n",
    "\n",
    "X_train_orig, X_val_orig, y_train_orig, y_val_orig, label_map_orig = load_image_data(\n",
    "    csv_file=config.CSV_FILE,\n",
    "    img_size=(224, 224),\n",
    "    load_all_images=True,\n",
    "    validation_split=0.2,\n",
    ")"
   ]
  },
  {
   "cell_type": "code",
   "execution_count": null,
   "id": "6fdab89d",
   "metadata": {},
   "outputs": [],
   "source": [
    "from data_loader import load_image_data_with_augmentation\n",
    "\n",
    "X_train_aug, X_val_aug, y_train_aug, y_val_aug, label_map_aug = load_image_data_with_augmentation(\n",
    "    csv_file=config.CSV_FILE,\n",
    "    img_size=(224, 224),\n",
    "    load_all_images=True,\n",
    "    validation_split=0.2,\n",
    ")"
   ]
  },
  {
   "cell_type": "code",
   "execution_count": null,
   "id": "fa6264a6",
   "metadata": {},
   "outputs": [],
   "source": [
    "heads_map = {\n",
    "    'EfficientNetB3': ['simple', 'dense_dropout', 'batchnorm_dropout'], # TODO welche?\n",
    "    'MobileNetV2': ['simple', 'dense_dropout'],\n",
    "    'DenseNet121': ['simple'],\n",
    "}"
   ]
  },
  {
   "cell_type": "code",
   "execution_count": null,
   "id": "b21900b3",
   "metadata": {},
   "outputs": [],
   "source": [
    "%autoreload 2\n",
    "from model_benchmark import evaluate_model\n",
    "from data_loader import update_results\n",
    "\n",
    "#MobileNetV2\n",
    "\n",
    "results = evaluate_model(\n",
    "    X_train_orig,\n",
    "    X_val_orig,\n",
    "    y_train_orig,\n",
    "    y_val_orig,\n",
    "    label_map_orig,\n",
    "    'MobileNetV2',\n",
    "    100,\n",
    "    doAutostop=True,\n",
    "    heads_map=heads_map\n",
    ")\n",
    "\n",
    "update_results(results, \"results_improved_mobilenet.pkl\")"
   ]
  },
  {
   "cell_type": "code",
   "execution_count": null,
   "id": "ed9f0364",
   "metadata": {},
   "outputs": [],
   "source": [
    "%autoreload 2\n",
    "from model_benchmark import evaluate_model\n",
    "from data_loader import update_results\n",
    "\n",
    "#MobileNetV2\n",
    "\n",
    "results = evaluate_model(\n",
    "    X_train_aug,\n",
    "    X_val_aug,\n",
    "    y_train_aug,\n",
    "    y_val_aug,\n",
    "    label_map_aug,\n",
    "    'MobileNetV2',\n",
    "    100,\n",
    "    doAutostop=True,\n",
    "    heads_map=heads_map\n",
    ")\n",
    "\n",
    "update_results(results, \"results_aug_mobilenet.pkl\")"
   ]
  },
  {
   "cell_type": "code",
   "execution_count": null,
   "id": "e2231151",
   "metadata": {},
   "outputs": [],
   "source": [
    "%autoreload 2\n",
    "from model_benchmark import evaluate_model\n",
    "from data_loader import update_results\n",
    "import config\n",
    "\n",
    "#EfficientNetB3\n",
    "X_train_orig_300, X_val_orig_300, y_train_orig_300, y_val_orig_300, label_map_orig = load_image_data(\n",
    "    csv_file=config.CSV_FILE,\n",
    "    img_size=(300, 300),\n",
    "    load_all_images=True,\n",
    "    validation_split=0.2,\n",
    ")\n",
    "\n",
    "results = evaluate_model(\n",
    "    X_train_orig_300,\n",
    "    X_val_orig_300,\n",
    "    y_train_orig_300,\n",
    "    y_val_orig_300,\n",
    "    label_map_orig,\n",
    "    'EfficientNetB3',\n",
    "    100,\n",
    "    doAutostop=True,\n",
    "    heads_map=heads_map\n",
    ")\n",
    "\n",
    "update_results(results,\"results_improved_efficientnet_b3.pkl\" )"
   ]
  },
  {
   "cell_type": "code",
   "execution_count": null,
   "id": "532a9358",
   "metadata": {},
   "outputs": [],
   "source": [
    "%autoreload 2\n",
    "from model_benchmark import evaluate_model\n",
    "from data_loader import update_results\n",
    "import config\n",
    "\n",
    "#EfficientNetB3\n",
    "X_train_aug_300, X_val_aug_300, y_train_aug_300, y_val_aug_300, label_map_orig = load_image_data_with_augmentation(\n",
    "    csv_file=config.CSV_FILE,\n",
    "    img_size=(300, 300),\n",
    "    load_all_images=True,\n",
    "    validation_split=0.2,\n",
    ")\n",
    "\n",
    "results = evaluate_model(\n",
    "    X_train_aug_300,\n",
    "    X_val_aug_300,\n",
    "    y_train_aug_300,\n",
    "    y_val_aug_300,\n",
    "    label_map_orig,\n",
    "    'EfficientNetB3',\n",
    "    100,\n",
    "    doAutostop=True,\n",
    "    heads_map=heads_map\n",
    ")\n",
    "\n",
    "update_results(results,\"results_aug_efficientnet_b3.pkl\" )"
   ]
  },
  {
   "cell_type": "code",
   "execution_count": null,
   "id": "6afaa5da",
   "metadata": {},
   "outputs": [],
   "source": [
    "%autoreload 2\n",
    "from model_benchmark import evaluate_model\n",
    "from data_loader import update_results\n",
    "\n",
    "#DenseNet121\n",
    "\n",
    "results = evaluate_model(\n",
    "    X_train_orig,\n",
    "    X_val_orig,\n",
    "    y_train_orig,\n",
    "    y_val_orig,\n",
    "    label_map_orig,\n",
    "    'DenseNet121',\n",
    "    100,\n",
    "    doAutostop=True,\n",
    "    heads_map=heads_map\n",
    ")\n",
    "\n",
    "update_results(results, \"results_improved_densenet.pkl\")"
   ]
  },
  {
   "cell_type": "code",
   "execution_count": null,
   "id": "a2afe726",
   "metadata": {},
   "outputs": [],
   "source": [
    "%autoreload 2\n",
    "from model_benchmark import evaluate_model\n",
    "from data_loader import update_results\n",
    "\n",
    "#DenseNet121\n",
    "\n",
    "results = evaluate_model(\n",
    "    X_train_aug,\n",
    "    X_val_aug,\n",
    "    y_train_aug,\n",
    "    y_val_aug,\n",
    "    label_map_aug,\n",
    "    'DenseNet121',\n",
    "    100,\n",
    "    doAutostop=True,\n",
    "    heads_map=heads_map\n",
    ")\n",
    "\n",
    "update_results(results, \"results_aug_densenet.pkl\")"
   ]
  }
 ],
 "metadata": {
  "kernelspec": {
   "display_name": "deeplearning-env",
   "language": "python",
   "name": "python3"
  },
  "language_info": {
   "codemirror_mode": {
    "name": "ipython",
    "version": 3
   },
   "file_extension": ".py",
   "mimetype": "text/x-python",
   "name": "python",
   "nbconvert_exporter": "python",
   "pygments_lexer": "ipython3",
   "version": "3.10.13"
  }
 },
 "nbformat": 4,
 "nbformat_minor": 5
}
