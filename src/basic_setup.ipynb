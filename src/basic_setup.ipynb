{
 "cells": [
  {
   "cell_type": "markdown",
   "id": "f05ed58b",
   "metadata": {},
   "source": [
    "import data"
   ]
  },
  {
   "cell_type": "markdown",
   "id": "deccc2b4",
   "metadata": {},
   "source": [
    "Test CNN GoogleNet"
   ]
  },
  {
   "cell_type": "markdown",
   "id": "13e8cf50",
   "metadata": {},
   "source": [
    "Auswertung: Loss"
   ]
  }
 ],
 "metadata": {
  "language_info": {
   "name": "python"
  }
 },
 "nbformat": 4,
 "nbformat_minor": 5
}
